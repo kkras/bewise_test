
  {
   "cell_type": "markdown",
   "id": "29160127",
   "metadata": {},
   "source": [
    "# Тестовое задание на должность Junior Data Scientist"
   ]
  },
  {
   "cell_type": "markdown",
   "id": "ff76cac1",
   "metadata": {},
   "source": [
    "**Выполнила Красичкова Екатерина**"
   ]
  },
  {
   "cell_type": "markdown",
   "id": "6f7601b4",
   "metadata": {},
   "source": [
    "**Цель работы**\n",
    "\n",
    "Написать скрипт, который будет выполнять следующие задачи:\n",
    "- Извлекать реплики с приветствием – где менеджер поздоровался. \n",
    "- Извлекать реплики, где менеджер представил себя. \n",
    "- Извлекать имя менеджера. \n",
    "- Извлекать название компании. \n",
    "- Извлекать реплики, где менеджер попрощался.\n",
    "- Проверять требование к менеджеру: «В каждом диалоге обязательно необходимо поздороваться и попрощаться с клиентом»"
   ]
  },
  {
   "cell_type": "markdown",
   "id": "193561a3",
   "metadata": {},
   "source": [
    "**План выполнения работы**\n",
    "\n",
    "- Загрузка данных\n",
    "- Предобработка данных (лемматизация, приведение регистра к одному виду)\n",
    "- Создание модели word2vec: данная модель позволит перевести слова в векторный вид\n",
    "- Составление контрольного списка, по которым будет проводится проверка реплик\n",
    "- Создание векторного массива: переведем в векторный вид датасет и составленные подборки\n",
    "- Проведение сравнительного анализа: если хоть одно слово из контрольного списка упомянуто в реплике - True"
   ]
  },
  {
   "cell_type": "code",
   "execution_count": null,
   "id": "554e1b82",
   "metadata": {},
   "outputs": [],
   "source": [
    "#загрузка данных и знакомство с ними\n",
    "import pandas as pd\n",
    "\n",
    "data = pd.read_csv(r'../input/test-data/test_data.csv')\n",
    "print(data.head())\n",
    "print()\n",
    "data.info()"
   ]
  },
  {
   "cell_type": "markdown",
   "id": "5d929a1b",
   "metadata": {},
   "source": [
    "**dlg_id** - номер разговора\n",
    "\n",
    "**line_n** - номер реплики\n",
    "\n",
    "**role** - менеджер/клиент\n",
    "\n",
    "**text** - текст "
   ]
  },
  {
   "cell_type": "markdown",
   "id": "c80ad9cd",
   "metadata": {},
   "source": [
    "Так как в данной задаче мы анализируем ответы менеджера, то реплики клиента можно убрать. Таким образом мы уменьшим скорость обработки данных."
   ]
  },
  {
   "cell_type": "code",
   "execution_count": null,
   "id": "deb318fb",
   "metadata": {},
   "outputs": [],
   "source": [
    "#сокращаем датасет\n",
    "data_manager = data.query('role == \"manager\"')\n",
    "print(data_manager.head())"
   ]
  },
  {
   "cell_type": "markdown",
   "id": "f6521c02",
   "metadata": {},
   "source": [
    "# Обработка данных "
   ]
  },
  {
   "cell_type": "markdown",
   "id": "aab0bdef",
   "metadata": {},
   "source": [
    "На данном этапе подготовим материал к анализу. Необходимо привести слова к их изначальной форме - \"лемме\" с помощью лемматизации. Также избавится от посторонних символов, пробелов, заглавных букв. "
   ]
  },
  {
   "cell_type": "code",
   "execution_count": null,
   "id": "f1da27d0",
   "metadata": {},
   "outputs": [],
   "source": [
    "from nltk.stem.wordnet import WordNetLemmatizer\n",
    "from nltk import word_tokenize\n",
    "from nltk.corpus import stopwords\n",
    "from sklearn.feature_extraction.text import CountVectorizer\n",
    "from sklearn.discriminant_analysis import LinearDiscriminantAnalysis as LDA\n",
    "import re \n",
    "\n",
    "ignore = set(stopwords.words('russian'))\n",
    "stemmer = WordNetLemmatizer()\n",
    "text_lemm = pd.DataFrame()\n",
    "\n",
    "for sentence in data_manager['text']:\n",
    "    words = word_tokenize(sentence)\n",
    "    stemmed = []\n",
    "    for word in words:\n",
    "        if word not in ignore:\n",
    "            stemmed.append(stemmer.lemmatize(word))\n",
    "    text_lemm.append(' '.join(stemmed))"
   ]
  },
  {
   "cell_type": "code",
   "execution_count": null,
   "id": "43b5eccb",
   "metadata": {},
   "outputs": [],
   "source": [
    "#приведение текста в один регистр\n",
    "for text in text_lemm:\n",
    "    text_lemm = re.sub(r'[^а-яА-ЯёЁ ]', ' ', text)\n",
    "    text = text.split()\n",
    "    text = \" \".join(text)\n",
    "    return text"
   ]
  },
  {
   "cell_type": "markdown",
   "id": "a2363a08",
   "metadata": {},
   "source": [
    "# Извлечение реплик"
   ]
  },
  {
   "cell_type": "markdown",
   "id": "cce21955",
   "metadata": {},
   "source": [
    "Для работы с текстом воспользуемся моделью Word2Vec. Данный алгоритм позволяет переводить слова в векторный вид, что значительно упрощает работу. Для обучения модели русскому языку необходим специальный пакет данных."
   ]
  },
  {
   "cell_type": "code",
   "execution_count": null,
   "id": "c3ff873c",
   "metadata": {},
   "outputs": [],
   "source": [
    "from gensim.models import Word2Vec\n",
    "\n",
    "model = gensim.models.Word2Vec(data, \n",
    "                               size=500, \n",
    "                               window=10, \n",
    "                               min_count=2, \n",
    "                               sg=0)\n",
    "\n",
    "text_w2v = model(text_lemm)"
   ]
  },
  {
   "cell_type": "code",
   "execution_count": null,
   "id": "665d0969",
   "metadata": {},
   "outputs": [],
   "source": [
    "#составим контрольные списки для каждого пункта задания\n",
    "greeting = ['здравствуйте', 'добрый день', 'добрый вечер', 'доброе утро', 'приветствуем']\n",
    "greeting_w2v = model(greeting)\n",
    "\n",
    "name = ['имя', 'зовут']\n",
    "\n",
    "company = ['диджитал бизнес']\n",
    "\n",
    "goodbye = ['свидания', 'доброго', 'хорошего', 'доброй']"
   ]
  },
  {
   "cell_type": "markdown",
   "id": "f675c23b",
   "metadata": {},
   "source": [
    "Так как алгоритм Word2Vec способен подбирать близкие по знаяению и синонимичны слова, следовательно мы можем найти слова по семантической близости. Для этого модель определяет косинусную близость. Следовательно, чем ближе слова по смыслу друг к другу, тем больше коэффициент стремится к 1.\n",
    "\n",
    "Так как у нас большой массив данных, примем, что при косинусном коэффициентe >=0.70 поставленное условие выполняется."
   ]
  },
  {
   "cell_type": "code",
   "execution_count": null,
   "id": "82895d3c",
   "metadata": {},
   "outputs": [],
   "source": []
  }
 ],
 "metadata": {
  "kernelspec": {
   "display_name": "Python 3 (ipykernel)",
   "language": "python",
   "name": "python3"
  },
  "language_info": {
   "codemirror_mode": {
    "name": "ipython",
    "version": 3
   },
   "file_extension": ".py",
   "mimetype": "text/x-python",
   "name": "python",
   "nbconvert_exporter": "python",
   "pygments_lexer": "ipython3",
   "version": "3.7.8"
  },
  "toc": {
   "base_numbering": 1,
   "nav_menu": {},
   "number_sections": true,
   "sideBar": true,
   "skip_h1_title": true,
   "title_cell": "Table of Contents",
   "title_sidebar": "Contents",
   "toc_cell": true,
   "toc_position": {},
   "toc_section_display": true,
   "toc_window_display": false
  }
 },
 "nbformat": 4,
 "nbformat_minor": 5
}
